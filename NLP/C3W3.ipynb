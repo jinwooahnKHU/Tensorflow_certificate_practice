{
 "cells": [
  {
   "cell_type": "markdown",
   "id": "6d8ce75f",
   "metadata": {},
   "source": [
    "# Tensorflow practice C3W3"
   ]
  },
  {
   "cell_type": "code",
   "execution_count": 7,
   "id": "26b208b0",
   "metadata": {
    "ExecuteTime": {
     "end_time": "2021-11-18T02:31:44.364836Z",
     "start_time": "2021-11-18T02:31:44.362861Z"
    }
   },
   "outputs": [],
   "source": [
    "import json\n",
    "import tensorflow as tf\n",
    "import csv\n",
    "import random\n",
    "import numpy as np\n",
    "\n",
    "from tensorflow.keras.preprocessing.text import Tokenizer\n",
    "from tensorflow.keras.preprocessing.sequence import pad_sequences\n",
    "from tensorflow.keras.utils import to_categorical\n",
    "from tensorflow.keras import regularizers"
   ]
  },
  {
   "cell_type": "code",
   "execution_count": 8,
   "id": "7c2acefa",
   "metadata": {
    "ExecuteTime": {
     "end_time": "2021-11-18T02:31:45.160408Z",
     "start_time": "2021-11-18T02:31:45.083681Z"
    }
   },
   "outputs": [],
   "source": [
    "embedding_dim=100\n",
    "max_length=16\n",
    "trunc_type='post'\n",
    "padding_type='post'\n",
    "oov_tok='<oov>'\n",
    "training_size=160000\n",
    "test_portion=.1\n",
    "\n",
    "corpus=[]"
   ]
  },
  {
   "cell_type": "code",
   "execution_count": 9,
   "id": "79251a9c",
   "metadata": {
    "ExecuteTime": {
     "end_time": "2021-11-18T02:32:23.667360Z",
     "start_time": "2021-11-18T02:31:45.163417Z"
    }
   },
   "outputs": [
    {
     "name": "stdout",
     "output_type": "stream",
     "text": [
      "Downloading...\n",
      "From: https://drive.google.com/uc?id=1wd8KaeCSHxt-nEpMeuHFSNWrDp8joUXJ\n",
      "To: /Users/jinwooahn/Documents/dev_folder/2021_2nd_semester/tensorflow_certificate/C3/W3/training_cleaned.csv\n",
      "100%|████████████████████████████████████████| 239M/239M [00:32<00:00, 7.46MB/s]\n"
     ]
    }
   ],
   "source": [
    "#download data\n",
    "\n",
    "!gdown --id 1wd8KaeCSHxt-nEpMeuHFSNWrDp8joUXJ\n",
    "\n",
    "num_sentences=0\n",
    "\n",
    "with open('./training_cleaned.csv') as csvfile:\n",
    "    reader = csv.reader(csvfile, delimiter=',')\n",
    "    #list_item = [[문장], [label값]] -> 이걸 corpus에 append\n",
    "    for row in reader:\n",
    "        list_item = []\n",
    "        \n",
    "        list_item.append(row[5])\n",
    "#         print(row[5], row[0])\n",
    "        this_label=row[0]\n",
    "        if this_label=='0':\n",
    "            list_item.append(0)\n",
    "        else:\n",
    "            list_item.append(1)\n",
    "        \n",
    "        num_sentences = num_sentences + 1\n",
    "        corpus.append(list_item)"
   ]
  },
  {
   "cell_type": "code",
   "execution_count": 17,
   "id": "a1e6f669",
   "metadata": {
    "ExecuteTime": {
     "end_time": "2021-11-18T02:40:34.367870Z",
     "start_time": "2021-11-18T02:40:34.364896Z"
    }
   },
   "outputs": [
    {
     "name": "stdout",
     "output_type": "stream",
     "text": [
      "1600000\n",
      "1600000\n"
     ]
    }
   ],
   "source": [
    "print(num_sentences)\n",
    "print(len(corpus))"
   ]
  },
  {
   "cell_type": "code",
   "execution_count": 13,
   "id": "d472df1c",
   "metadata": {
    "ExecuteTime": {
     "end_time": "2021-11-18T02:38:32.805557Z",
     "start_time": "2021-11-18T02:38:29.363513Z"
    }
   },
   "outputs": [],
   "source": [
    "sentences = []\n",
    "labels = []\n",
    "random.shuffle(corpus)\n",
    "\n",
    "#corpus의 값을 다시 sentences, labels로 분리하여 넣음\n",
    "for x in range(training_size):\n",
    "    sentences.append(corpus[x][0])\n",
    "    labels.append(corpus[x][1])\n",
    "\n",
    "#토큰화\n",
    "tokenizer = Tokenizer()\n",
    "tokenizer.fit_on_texts(sentences)\n",
    "#vocab생성\n",
    "word_index = tokenizer.word_index\n",
    "vocab_size = len(word_index)\n",
    "#문장을 index로 바꾸기\n",
    "sequences = tokenizer.texts_to_sequences(sentences)\n",
    "#padding\n",
    "padded = pad_sequences(sequences, maxlen = max_length, padding=padding_type, truncating=trunc_type)\n",
    "\n",
    "#test size\n",
    "split = int(test_portion * training_size)\n",
    "\n",
    "test_sequences = padded[:split]\n",
    "training_sequences = padded[split:]\n",
    "test_labels = labels[:split]\n",
    "training_labels = labels[split:training_size]"
   ]
  },
  {
   "cell_type": "code",
   "execution_count": 16,
   "id": "5dbc2cc5",
   "metadata": {
    "ExecuteTime": {
     "end_time": "2021-11-18T02:38:53.247860Z",
     "start_time": "2021-11-18T02:38:53.244701Z"
    }
   },
   "outputs": [
    {
     "name": "stdout",
     "output_type": "stream",
     "text": [
      "138433\n",
      "1\n"
     ]
    }
   ],
   "source": [
    "print(vocab_size)\n",
    "print(word_index['i'])"
   ]
  },
  {
   "cell_type": "code",
   "execution_count": 18,
   "id": "d90340c3",
   "metadata": {
    "ExecuteTime": {
     "end_time": "2021-11-18T02:52:10.241009Z",
     "start_time": "2021-11-18T02:51:08.359040Z"
    }
   },
   "outputs": [
    {
     "name": "stdout",
     "output_type": "stream",
     "text": [
      "Downloading...\n",
      "From: https://drive.google.com/uc?id=1W5vZy2etitAblLdFn8_DxnsQKzfFJ98g\n",
      "To: /Users/jinwooahn/Documents/dev_folder/2021_2nd_semester/tensorflow_certificate/C3/W3/glove.6B.100d.txt\n",
      "100%|████████████████████████████████████████| 347M/347M [00:54<00:00, 6.41MB/s]\n"
     ]
    }
   ],
   "source": [
    "# glove로 사전학습된 단어와 임베딩 벡터를 받아온다\n",
    "!gdown --id 1W5vZy2etitAblLdFn8_DxnsQKzfFJ98g\n",
    "\n",
    "embeddings_index = {}\n",
    "with open('./glove.6B.100d.txt') as f:\n",
    "    for line in f:\n",
    "        values = line.split()\n",
    "        # values = [[word],[word의 임베딩 벡터(coefs)]]\n",
    "        word = values[0]\n",
    "        coefs = np.asarray(values[1:], dtype='float32')\n",
    "        #이를 dictionary로 만들어줌\n",
    "        embeddings_index[word] = coefs\n",
    "\n",
    "#임베딩 행렬에 벡터 값 저장\n",
    "embeddings_matrix = np.zeros((vocab_size +1, embedding_dim))\n",
    "for word, i in word_index.items():\n",
    "    embedding_vector = embeddings_index.get(word)\n",
    "    if embedding_vector is not None:\n",
    "        embeddings_matrix[i] = embedding_vector"
   ]
  },
  {
   "cell_type": "code",
   "execution_count": null,
   "id": "401daddb",
   "metadata": {
    "ExecuteTime": {
     "end_time": "2021-11-18T02:57:57.562448Z",
     "start_time": "2021-11-18T02:57:57.562443Z"
    }
   },
   "outputs": [],
   "source": [
    "print(len(embeddings_matrix))\n",
    "print(embeddings_matrix.shape)"
   ]
  },
  {
   "cell_type": "code",
   "execution_count": 22,
   "id": "c3c8fce4",
   "metadata": {
    "ExecuteTime": {
     "end_time": "2021-11-18T03:19:29.249897Z",
     "start_time": "2021-11-18T02:58:16.569140Z"
    }
   },
   "outputs": [
    {
     "name": "stdout",
     "output_type": "stream",
     "text": [
      "Model: \"sequential_1\"\n",
      "_________________________________________________________________\n",
      "Layer (type)                 Output Shape              Param #   \n",
      "=================================================================\n",
      "embedding_1 (Embedding)      (None, 16, 100)           13843400  \n",
      "_________________________________________________________________\n",
      "dropout_1 (Dropout)          (None, 16, 100)           0         \n",
      "_________________________________________________________________\n",
      "conv1d_1 (Conv1D)            (None, 12, 64)            32064     \n",
      "_________________________________________________________________\n",
      "max_pooling1d_1 (MaxPooling1 (None, 3, 64)             0         \n",
      "_________________________________________________________________\n",
      "lstm_1 (LSTM)                (None, 64)                33024     \n",
      "_________________________________________________________________\n",
      "dense_1 (Dense)              (None, 1)                 65        \n",
      "=================================================================\n",
      "Total params: 13,908,553\n",
      "Trainable params: 65,153\n",
      "Non-trainable params: 13,843,400\n",
      "_________________________________________________________________\n",
      "Epoch 1/50\n"
     ]
    },
    {
     "name": "stderr",
     "output_type": "stream",
     "text": [
      "2021-11-18 11:58:17.039289: I tensorflow/core/grappler/optimizers/custom_graph_optimizer_registry.cc:112] Plugin optimizer for device_type GPU is enabled.\n",
      "2021-11-18 11:58:17.745358: I tensorflow/core/grappler/optimizers/custom_graph_optimizer_registry.cc:112] Plugin optimizer for device_type GPU is enabled.\n",
      "2021-11-18 11:58:19.222156: I tensorflow/core/grappler/optimizers/custom_graph_optimizer_registry.cc:112] Plugin optimizer for device_type GPU is enabled.\n",
      "2021-11-18 11:58:45.704647: I tensorflow/core/grappler/optimizers/custom_graph_optimizer_registry.cc:112] Plugin optimizer for device_type GPU is enabled.\n",
      "2021-11-18 11:58:45.737902: I tensorflow/core/grappler/optimizers/custom_graph_optimizer_registry.cc:112] Plugin optimizer for device_type GPU is enabled.\n"
     ]
    },
    {
     "name": "stdout",
     "output_type": "stream",
     "text": [
      "4500/4500 - 30s - loss: 0.6570 - accuracy: 0.6011 - val_loss: 0.6341 - val_accuracy: 0.6319\n",
      "Epoch 2/50\n",
      "4500/4500 - 26s - loss: 0.6350 - accuracy: 0.6320 - val_loss: 0.6225 - val_accuracy: 0.6553\n",
      "Epoch 3/50\n",
      "4500/4500 - 25s - loss: 0.6265 - accuracy: 0.6420 - val_loss: 0.6152 - val_accuracy: 0.6553\n",
      "Epoch 4/50\n",
      "4500/4500 - 25s - loss: 0.6234 - accuracy: 0.6456 - val_loss: 0.6152 - val_accuracy: 0.6525\n",
      "Epoch 5/50\n",
      "4500/4500 - 25s - loss: 0.6170 - accuracy: 0.6523 - val_loss: 0.6067 - val_accuracy: 0.6645\n",
      "Epoch 6/50\n",
      "4500/4500 - 25s - loss: 0.6165 - accuracy: 0.6515 - val_loss: 0.6054 - val_accuracy: 0.6654\n",
      "Epoch 7/50\n",
      "4500/4500 - 25s - loss: 0.6175 - accuracy: 0.6523 - val_loss: 0.6079 - val_accuracy: 0.6653\n",
      "Epoch 8/50\n",
      "4500/4500 - 25s - loss: 0.6164 - accuracy: 0.6521 - val_loss: 0.6053 - val_accuracy: 0.6645\n",
      "Epoch 9/50\n",
      "4500/4500 - 25s - loss: 0.6118 - accuracy: 0.6574 - val_loss: 0.6050 - val_accuracy: 0.6638\n",
      "Epoch 10/50\n",
      "4500/4500 - 25s - loss: 0.6110 - accuracy: 0.6582 - val_loss: 0.6052 - val_accuracy: 0.6690\n",
      "Epoch 11/50\n",
      "4500/4500 - 25s - loss: 0.6086 - accuracy: 0.6606 - val_loss: 0.6001 - val_accuracy: 0.6728\n",
      "Epoch 12/50\n",
      "4500/4500 - 26s - loss: 0.6061 - accuracy: 0.6633 - val_loss: 0.5993 - val_accuracy: 0.6761\n",
      "Epoch 13/50\n",
      "4500/4500 - 26s - loss: 0.6033 - accuracy: 0.6656 - val_loss: 0.5938 - val_accuracy: 0.6792\n",
      "Epoch 14/50\n",
      "4500/4500 - 25s - loss: 0.6014 - accuracy: 0.6686 - val_loss: 0.5958 - val_accuracy: 0.6778\n",
      "Epoch 15/50\n",
      "4500/4500 - 25s - loss: 0.6028 - accuracy: 0.6676 - val_loss: 0.5924 - val_accuracy: 0.6773\n",
      "Epoch 16/50\n",
      "4500/4500 - 25s - loss: 0.6037 - accuracy: 0.6665 - val_loss: 0.5956 - val_accuracy: 0.6761\n",
      "Epoch 17/50\n",
      "4500/4500 - 25s - loss: 0.6009 - accuracy: 0.6689 - val_loss: 0.5931 - val_accuracy: 0.6767\n",
      "Epoch 18/50\n",
      "4500/4500 - 25s - loss: 0.6007 - accuracy: 0.6702 - val_loss: 0.5891 - val_accuracy: 0.6842\n",
      "Epoch 19/50\n",
      "4500/4500 - 25s - loss: 0.6013 - accuracy: 0.6681 - val_loss: 0.5892 - val_accuracy: 0.6847\n",
      "Epoch 20/50\n",
      "4500/4500 - 25s - loss: 0.6012 - accuracy: 0.6694 - val_loss: 0.5905 - val_accuracy: 0.6824\n",
      "Epoch 21/50\n",
      "4500/4500 - 25s - loss: 0.6009 - accuracy: 0.6688 - val_loss: 0.5940 - val_accuracy: 0.6779\n",
      "Epoch 22/50\n",
      "4500/4500 - 25s - loss: 0.5991 - accuracy: 0.6717 - val_loss: 0.5886 - val_accuracy: 0.6821\n",
      "Epoch 23/50\n",
      "4500/4500 - 25s - loss: 0.6019 - accuracy: 0.6663 - val_loss: 0.6054 - val_accuracy: 0.6639\n",
      "Epoch 24/50\n",
      "4500/4500 - 25s - loss: 0.6044 - accuracy: 0.6634 - val_loss: 0.5921 - val_accuracy: 0.6806\n",
      "Epoch 25/50\n",
      "4500/4500 - 25s - loss: 0.5997 - accuracy: 0.6691 - val_loss: 0.5892 - val_accuracy: 0.6783\n",
      "Epoch 26/50\n",
      "4500/4500 - 25s - loss: 0.6019 - accuracy: 0.6665 - val_loss: 0.5972 - val_accuracy: 0.6665\n",
      "Epoch 27/50\n",
      "4500/4500 - 25s - loss: 0.6004 - accuracy: 0.6680 - val_loss: 0.5996 - val_accuracy: 0.6686\n",
      "Epoch 28/50\n",
      "4500/4500 - 25s - loss: 0.6010 - accuracy: 0.6688 - val_loss: 0.5903 - val_accuracy: 0.6806\n",
      "Epoch 29/50\n",
      "4500/4500 - 25s - loss: 0.5999 - accuracy: 0.6698 - val_loss: 0.5959 - val_accuracy: 0.6756\n",
      "Epoch 30/50\n",
      "4500/4500 - 25s - loss: 0.6020 - accuracy: 0.6680 - val_loss: 0.5940 - val_accuracy: 0.6740\n",
      "Epoch 31/50\n",
      "4500/4500 - 25s - loss: 0.6024 - accuracy: 0.6686 - val_loss: 0.5970 - val_accuracy: 0.6718\n",
      "Epoch 32/50\n",
      "4500/4500 - 25s - loss: 0.6030 - accuracy: 0.6678 - val_loss: 0.5968 - val_accuracy: 0.6711\n",
      "Epoch 33/50\n",
      "4500/4500 - 25s - loss: 0.6002 - accuracy: 0.6690 - val_loss: 0.5909 - val_accuracy: 0.6799\n",
      "Epoch 34/50\n",
      "4500/4500 - 25s - loss: 0.5991 - accuracy: 0.6705 - val_loss: 0.5907 - val_accuracy: 0.6758\n",
      "Epoch 35/50\n",
      "4500/4500 - 25s - loss: 0.5984 - accuracy: 0.6697 - val_loss: 0.5927 - val_accuracy: 0.6783\n",
      "Epoch 36/50\n",
      "4500/4500 - 25s - loss: 0.6020 - accuracy: 0.6643 - val_loss: 0.5967 - val_accuracy: 0.6716\n",
      "Epoch 37/50\n",
      "4500/4500 - 25s - loss: 0.6039 - accuracy: 0.6645 - val_loss: 0.5968 - val_accuracy: 0.6724\n",
      "Epoch 38/50\n",
      "4500/4500 - 25s - loss: 0.6031 - accuracy: 0.6645 - val_loss: 0.5928 - val_accuracy: 0.6785\n",
      "Epoch 39/50\n",
      "4500/4500 - 26s - loss: 0.6008 - accuracy: 0.6667 - val_loss: 0.5946 - val_accuracy: 0.6779\n",
      "Epoch 40/50\n",
      "4500/4500 - 26s - loss: 0.6035 - accuracy: 0.6646 - val_loss: 0.5969 - val_accuracy: 0.6705\n",
      "Epoch 41/50\n",
      "4500/4500 - 27s - loss: 0.6002 - accuracy: 0.6686 - val_loss: 0.5903 - val_accuracy: 0.6769\n",
      "Epoch 42/50\n",
      "4500/4500 - 26s - loss: 0.5978 - accuracy: 0.6711 - val_loss: 0.5895 - val_accuracy: 0.6784\n",
      "Epoch 43/50\n",
      "4500/4500 - 27s - loss: 0.5986 - accuracy: 0.6711 - val_loss: 0.5931 - val_accuracy: 0.6766\n",
      "Epoch 44/50\n",
      "4500/4500 - 26s - loss: 0.5990 - accuracy: 0.6699 - val_loss: 0.6034 - val_accuracy: 0.6649\n",
      "Epoch 45/50\n",
      "4500/4500 - 26s - loss: 0.6013 - accuracy: 0.6679 - val_loss: 0.5986 - val_accuracy: 0.6725\n",
      "Epoch 46/50\n",
      "4500/4500 - 26s - loss: 0.6045 - accuracy: 0.6618 - val_loss: 0.6025 - val_accuracy: 0.6634\n",
      "Epoch 47/50\n",
      "4500/4500 - 26s - loss: 0.6067 - accuracy: 0.6618 - val_loss: 0.5982 - val_accuracy: 0.6697\n",
      "Epoch 48/50\n",
      "4500/4500 - 25s - loss: 0.6045 - accuracy: 0.6638 - val_loss: 0.5936 - val_accuracy: 0.6789\n",
      "Epoch 49/50\n",
      "4500/4500 - 25s - loss: 0.5997 - accuracy: 0.6696 - val_loss: 0.5934 - val_accuracy: 0.6770\n",
      "Epoch 50/50\n",
      "4500/4500 - 25s - loss: 0.6048 - accuracy: 0.6628 - val_loss: 0.5949 - val_accuracy: 0.6717\n",
      "Training Completed\n"
     ]
    }
   ],
   "source": [
    "model = tf.keras.Sequential([\n",
    "    #weight을 받아왔기 때문에 initial weight를 넣어줌\n",
    "    #이로인해 적은 에폭수만으로 높은 정확도를 얻을 수 있음\n",
    "    tf.keras.layers.Embedding(vocab_size+1, embedding_dim, input_length=max_length, weights=[embeddings_matrix], trainable=False),\n",
    "    tf.keras.layers.Dropout(0.2),\n",
    "    tf.keras.layers.Conv1D(64, 5, activation='relu'),\n",
    "    tf.keras.layers.MaxPooling1D(pool_size=4),\n",
    "    tf.keras.layers.LSTM(64),\n",
    "    tf.keras.layers.Dense(1, activation = 'sigmoid')\n",
    "])\n",
    "\n",
    "model.compile(loss='binary_crossentropy', optimizer='adam', metrics=['accuracy'])\n",
    "model.summary()\n",
    "\n",
    "num_epochs=50\n",
    "\n",
    "training_padded = np.array(training_sequences)\n",
    "training_labels = np.array(training_labels)\n",
    "testing_padded = np.array(test_sequences)\n",
    "testing_labels = np.array(test_labels)\n",
    "\n",
    "history = model.fit(training_padded, training_labels, epochs=num_epochs, validation_data = (testing_padded, testing_labels), verbose=2)\n",
    "\n",
    "print(\"Training Completed\")"
   ]
  },
  {
   "cell_type": "code",
   "execution_count": 23,
   "id": "25423fb6",
   "metadata": {
    "ExecuteTime": {
     "end_time": "2021-11-18T03:31:38.907557Z",
     "start_time": "2021-11-18T03:31:38.518356Z"
    }
   },
   "outputs": [
    {
     "data": {
      "text/plain": [
       "<Figure size 432x288 with 0 Axes>"
      ]
     },
     "execution_count": 23,
     "metadata": {},
     "output_type": "execute_result"
    },
    {
     "data": {
      "image/png": "[encoded data removed]",
      "text/plain": [
       "<Figure size 432x288 with 1 Axes>"
      ]
     },
     "metadata": {
      "needs_background": "light"
     },
     "output_type": "display_data"
    },
    {
     "data": {
      "image/png": "[encoded data removed]",
      "text/plain": [
       "<Figure size 432x288 with 1 Axes>"
      ]
     },
     "metadata": {
      "needs_background": "light"
     },
     "output_type": "display_data"
    },
    {
     "data": {
      "text/plain": [
       "<Figure size 432x288 with 0 Axes>"
      ]
     },
     "metadata": {},
     "output_type": "display_data"
    }
   ],
   "source": [
    "import matplotlib.image  as mpimg\n",
    "import matplotlib.pyplot as plt\n",
    "\n",
    "acc=history.history['accuracy']\n",
    "val_acc=history.history['val_accuracy']\n",
    "loss=history.history['loss']\n",
    "val_loss=history.history['val_loss']\n",
    "\n",
    "epochs=range(len(acc)) # Get number of epochs\n",
    "\n",
    "\n",
    "plt.plot(epochs, acc, 'r')\n",
    "plt.plot(epochs, val_acc, 'b')\n",
    "plt.title('Training and validation accuracy')\n",
    "plt.xlabel(\"Epochs\")\n",
    "plt.ylabel(\"Accuracy\")\n",
    "plt.legend([\"Accuracy\", \"Validation Accuracy\"])\n",
    "\n",
    "plt.figure()\n",
    "\n",
    "\n",
    "plt.plot(epochs, loss, 'r')\n",
    "plt.plot(epochs, val_loss, 'b')\n",
    "plt.title('Training and validation loss')\n",
    "plt.xlabel(\"Epochs\")\n",
    "plt.ylabel(\"Loss\")\n",
    "plt.legend([\"Loss\", \"Validation Loss\"])\n",
    "\n",
    "plt.figure()"
   ]
  },
  {
   "cell_type": "code",
   "execution_count": null,
   "id": "33e626cf",
   "metadata": {},
   "outputs": [],
   "source": []
  }
 ],
 "metadata": {
  "hide_input": false,
  "kernelspec": {
   "display_name": "tf_certificate",
   "language": "python",
   "name": "tf_certificate"
  },
  "language_info": {
   "codemirror_mode": {
    "name": "ipython",
    "version": 3
   },
   "file_extension": ".py",
   "mimetype": "text/x-python",
   "name": "python",
   "nbconvert_exporter": "python",
   "pygments_lexer": "ipython3",
   "version": "3.8.12"
  },
  "toc": {
   "base_numbering": 1,
   "nav_menu": {},
   "number_sections": true,
   "sideBar": true,
   "skip_h1_title": false,
   "title_cell": "Table of Contents",
   "title_sidebar": "Contents",
   "toc_cell": false,
   "toc_position": {},
   "toc_section_display": true,
   "toc_window_display": false
  },
  "varInspector": {
   "cols": {
    "lenName": 16,
    "lenType": 16,
    "lenVar": 40
   },
   "kernels_config": {
    "python": {
     "delete_cmd_postfix": "",
     "delete_cmd_prefix": "del ",
     "library": "var_list.py",
     "varRefreshCmd": "print(var_dic_list())"
    },
    "r": {
     "delete_cmd_postfix": ") ",
     "delete_cmd_prefix": "rm(",
     "library": "var_list.r",
     "varRefreshCmd": "cat(var_dic_list()) "
    }
   },
   "types_to_exclude": [
    "module",
    "function",
    "builtin_function_or_method",
    "instance",
    "_Feature"
   ],
   "window_display": false
  }
 },
 "nbformat": 4,
 "nbformat_minor": 5
}
