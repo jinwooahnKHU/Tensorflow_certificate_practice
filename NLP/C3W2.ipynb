{
 "cells": [
  {
   "cell_type": "markdown",
   "id": "1062479b",
   "metadata": {},
   "source": [
    "# Tensorflow practice C3W2"
   ]
  },
  {
   "cell_type": "code",
   "execution_count": 2,
   "id": "57501b6d",
   "metadata": {
    "ExecuteTime": {
     "end_time": "2021-11-17T06:53:24.475572Z",
     "start_time": "2021-11-17T06:53:24.472540Z"
    }
   },
   "outputs": [],
   "source": [
    "import csv\n",
    "import tensorflow as tf\n",
    "import numpy as np\n",
    "from tensorflow.keras.preprocessing.text import Tokenizer\n",
    "from tensorflow.keras.preprocessing.sequence import pad_sequences"
   ]
  },
  {
   "cell_type": "code",
   "execution_count": 3,
   "id": "63edfe05",
   "metadata": {
    "ExecuteTime": {
     "end_time": "2021-11-17T06:53:41.549575Z",
     "start_time": "2021-11-17T06:53:37.545473Z"
    }
   },
   "outputs": [
    {
     "name": "stdout",
     "output_type": "stream",
     "text": [
      "Downloading...\n",
      "From: https://drive.google.com/uc?id=1rX10xeI3eUJmOLsc4pOPY6AnCLO8DxNj\n",
      "To: /Users/jinwooahn/Documents/dev_folder/2021_2nd_semester/tensorflow_certificate/C3/W2/bbc-text.csv\n",
      "100%|██████████████████████████████████████| 5.06M/5.06M [00:00<00:00, 7.29MB/s]\n"
     ]
    }
   ],
   "source": [
    "# download bbc-text\n",
    "!gdown --id 1rX10xeI3eUJmOLsc4pOPY6AnCLO8DxNj"
   ]
  },
  {
   "cell_type": "code",
   "execution_count": 5,
   "id": "9be80747",
   "metadata": {
    "ExecuteTime": {
     "end_time": "2021-11-17T06:54:47.052591Z",
     "start_time": "2021-11-17T06:54:47.049481Z"
    }
   },
   "outputs": [],
   "source": [
    "#define parameters\n",
    "vocab_size=1000\n",
    "embedding_dim=16\n",
    "max_length=120\n",
    "#truncate : max_length보다 길면 문장 잘라버림\n",
    "#자르는 기준을 뒤를 자르느냐 앞으로 자르느냐에 따라 post, pre로 설정\n",
    "trunc_type='post'\n",
    "padding_type='post'\n",
    "oov_tok =\"<oov>\"\n",
    "training_portion=.8"
   ]
  },
  {
   "cell_type": "code",
   "execution_count": 42,
   "id": "7b3bcc49",
   "metadata": {
    "ExecuteTime": {
     "end_time": "2021-11-17T08:34:28.843444Z",
     "start_time": "2021-11-17T08:34:28.829838Z"
    }
   },
   "outputs": [],
   "source": [
    "sentences = []\n",
    "labels = []\n",
    "stopwords = [ \"a\", \"about\", \"above\", \"after\", \"again\", \"against\", \"all\", \"am\", \"an\", \"and\", \"any\", \"are\", \"as\", \"at\", \"be\", \"because\", \"been\", \"before\", \"being\", \"below\", \"between\", \"both\", \"but\", \"by\", \"could\", \"did\", \"do\", \"does\", \"doing\", \"down\", \"during\", \"each\", \"few\", \"for\", \"from\", \"further\", \"had\", \"has\", \"have\", \"having\", \"he\", \"he'd\", \"he'll\", \"he's\", \"her\", \"here\", \"here's\", \"hers\", \"herself\", \"him\", \"himself\", \"his\", \"how\", \"how's\", \"i\", \"i'd\", \"i'll\", \"i'm\", \"i've\", \"if\", \"in\", \"into\", \"is\", \"it\", \"it's\", \"its\", \"itself\", \"let's\", \"me\", \"more\", \"most\", \"my\", \"myself\", \"nor\", \"of\", \"on\", \"once\", \"only\", \"or\", \"other\", \"ought\", \"our\", \"ours\", \"ourselves\", \"out\", \"over\", \"own\", \"same\", \"she\", \"she'd\", \"she'll\", \"she's\", \"should\", \"so\", \"some\", \"such\", \"than\", \"that\", \"that's\", \"the\", \"their\", \"theirs\", \"them\", \"themselves\", \"then\", \"there\", \"there's\", \"these\", \"they\", \"they'd\", \"they'll\", \"they're\", \"they've\", \"this\", \"those\", \"through\", \"to\", \"too\", \"under\", \"until\", \"up\", \"very\", \"was\", \"we\", \"we'd\", \"we'll\", \"we're\", \"we've\", \"were\", \"what\", \"what's\", \"when\", \"when's\", \"where\", \"where's\", \"which\", \"while\", \"who\", \"who's\", \"whom\", \"why\", \"why's\", \"with\", \"would\", \"you\", \"you'd\", \"you'll\", \"you're\", \"you've\", \"your\", \"yours\", \"yourself\", \"yourselves\" ]"
   ]
  },
  {
   "cell_type": "code",
   "execution_count": 43,
   "id": "6c63ffbe",
   "metadata": {
    "ExecuteTime": {
     "end_time": "2021-11-17T08:34:31.032396Z",
     "start_time": "2021-11-17T08:34:29.348801Z"
    }
   },
   "outputs": [],
   "source": [
    "with open('./bbc-text.csv', 'r') as csvfile:\n",
    "    reader = csv.reader(csvfile, delimiter=',')\n",
    "    next(reader)\n",
    "    for row in reader:\n",
    "        labels.append(row[0])\n",
    "        sentence = row[1]\n",
    "        for word in stopwords:\n",
    "            token = ' ' + word + ' '\n",
    "            sentence = sentence.replace(token, ' ')\n",
    "            sentence = sentence.replace('  ', ' ')\n",
    "        sentences.append(sentence)"
   ]
  },
  {
   "cell_type": "code",
   "execution_count": 44,
   "id": "96042915",
   "metadata": {
    "ExecuteTime": {
     "end_time": "2021-11-17T08:34:31.131757Z",
     "start_time": "2021-11-17T08:34:31.130084Z"
    }
   },
   "outputs": [
    {
     "name": "stdout",
     "output_type": "stream",
     "text": [
      "2225\n",
      "2225\n",
      "tv future hands viewers home theatre systems plasma high-definition tvs digital video recorders moving living room way people watch tv will radically different five years time. according expert panel gathered annual consumer electronics show las vegas discuss new technologies will impact one favourite pastimes. us leading trend programmes content will delivered viewers via home networks cable satellite telecoms companies broadband service providers front rooms portable devices. one talked-about technologies ces digital personal video recorders (dvr pvr). set-top boxes like us s tivo uk s sky+ system allow people record store play pause forward wind tv programmes want. essentially technology allows much personalised tv. also built-in high-definition tv sets big business japan us slower take off europe lack high-definition programming. not can people forward wind adverts can also forget abiding network channel schedules putting together a-la-carte entertainment. us networks cable satellite companies worried means terms advertising revenues well brand identity viewer loyalty channels. although us leads technology moment also concern raised europe particularly growing uptake services like sky+. happens today will see nine months years time uk adam hume bbc broadcast s futurologist told bbc news website. likes bbc no issues lost advertising revenue yet. pressing issue moment commercial uk broadcasters brand loyalty important everyone. will talking content brands rather network brands said tim hanlon brand communications firm starcom mediavest. reality broadband connections anybody can producer content. added: challenge now hard promote programme much choice. means said stacey jolna senior vice president tv guide tv group way people find content want watch simplified tv viewers. means networks us terms channels take leaf google s book search engine future instead scheduler help people find want watch. kind channel model might work younger ipod generation used taking control gadgets play them. might not suit everyone panel recognised. older generations comfortable familiar schedules channel brands know getting. perhaps not want much choice put hands mr hanlon suggested. end kids just diapers pushing buttons already - everything possible available said mr hanlon. ultimately consumer will tell market want. 50 000 new gadgets technologies showcased ces many enhancing tv-watching experience. high-definition tv sets everywhere many new models lcd (liquid crystal display) tvs launched dvr capability built instead external boxes. one example launched show humax s 26-inch lcd tv 80-hour tivo dvr dvd recorder. one us s biggest satellite tv companies directtv even launched branded dvr show 100-hours recording capability instant replay search function. set can pause rewind tv 90 hours. microsoft chief bill gates announced pre-show keynote speech partnership tivo called tivotogo means people can play recorded programmes windows pcs mobile devices. reflect increasing trend freeing multimedia people can watch want want.\n"
     ]
    }
   ],
   "source": [
    "print(len(labels))\n",
    "print(len(sentences))\n",
    "print(sentences[0])"
   ]
  },
  {
   "cell_type": "code",
   "execution_count": 45,
   "id": "4b1cc533",
   "metadata": {
    "ExecuteTime": {
     "end_time": "2021-11-17T08:34:32.940202Z",
     "start_time": "2021-11-17T08:34:32.933005Z"
    }
   },
   "outputs": [
    {
     "name": "stdout",
     "output_type": "stream",
     "text": [
      "1780\n",
      "1780\n",
      "1780\n",
      "445\n",
      "445\n"
     ]
    }
   ],
   "source": [
    "train_size = int(len(sentences) * training_portion)\n",
    "\n",
    "train_sentences = sentences[:train_size]\n",
    "train_labels = labels[:train_size]\n",
    "\n",
    "validation_sentences = sentences[train_size:]\n",
    "validation_labels = labels[train_size:]\n",
    "\n",
    "print(train_size)\n",
    "print(len(train_sentences))\n",
    "print(len(train_labels))\n",
    "print(len(validation_sentences))\n",
    "print(len(validation_labels))\n"
   ]
  },
  {
   "cell_type": "code",
   "execution_count": 46,
   "id": "19a4917b",
   "metadata": {
    "ExecuteTime": {
     "end_time": "2021-11-17T08:34:35.440424Z",
     "start_time": "2021-11-17T08:34:35.061026Z"
    }
   },
   "outputs": [
    {
     "name": "stdout",
     "output_type": "stream",
     "text": [
      "449\n",
      "120\n",
      "200\n",
      "120\n",
      "192\n",
      "120\n"
     ]
    }
   ],
   "source": [
    "tokenizer = Tokenizer(num_words = vocab_size, oov_token = oov_tok)\n",
    "tokenizer.fit_on_texts(train_sentences)\n",
    "word_index = tokenizer.word_index\n",
    "\n",
    "train_sequences = tokenizer.texts_to_sequences(train_sentences)\n",
    "train_padded = pad_sequences(train_sequences, padding=padding_type, maxlen = max_length)\n",
    "\n",
    "print(len(train_sequences[0]))\n",
    "print(len(train_padded[0]))\n",
    "\n",
    "print(len(train_sequences[1]))\n",
    "print(len(train_padded[1]))\n",
    "\n",
    "print(len(train_sequences[10]))\n",
    "print(len(train_padded[10]))"
   ]
  },
  {
   "cell_type": "code",
   "execution_count": 47,
   "id": "c37a212c",
   "metadata": {
    "ExecuteTime": {
     "end_time": "2021-11-17T08:34:36.830958Z",
     "start_time": "2021-11-17T08:34:36.754299Z"
    }
   },
   "outputs": [
    {
     "name": "stdout",
     "output_type": "stream",
     "text": [
      "445\n",
      "(445, 120)\n"
     ]
    }
   ],
   "source": [
    "validation_sequences = tokenizer.texts_to_sequences(validation_sentences) # YOUR CODE HERE\n",
    "validation_padded = pad_sequences(validation_sequences, padding=padding_type, maxlen=max_length) # YOUR CODE HERE\n",
    "\n",
    "print(len(validation_sequences))\n",
    "print(validation_padded.shape)"
   ]
  },
  {
   "cell_type": "code",
   "execution_count": 48,
   "id": "684c824b",
   "metadata": {
    "ExecuteTime": {
     "end_time": "2021-11-17T08:34:38.303290Z",
     "start_time": "2021-11-17T08:34:38.255112Z"
    }
   },
   "outputs": [
    {
     "name": "stdout",
     "output_type": "stream",
     "text": [
      "[4]\n",
      "[2]\n",
      "[1]\n",
      "(1780, 1)\n",
      "[5]\n",
      "[4]\n",
      "[3]\n",
      "(445, 1)\n"
     ]
    }
   ],
   "source": [
    "# label 도 동일하게 작업\n",
    "label_tokenizer = Tokenizer() # YOUR CODE HERE\n",
    "label_tokenizer.fit_on_texts(labels) # YOUR CODE HERE\n",
    "\n",
    "training_label_seq = np.array(label_tokenizer.texts_to_sequences(train_labels)) # YOUR CODE HERE\n",
    "validation_label_seq = np.array(label_tokenizer.texts_to_sequences(validation_labels)) # YOUR CODE HERE\n",
    "\n",
    "print(training_label_seq[0])\n",
    "print(training_label_seq[1])\n",
    "print(training_label_seq[2])\n",
    "print(training_label_seq.shape)\n",
    "\n",
    "print(validation_label_seq[0])\n",
    "print(validation_label_seq[1])\n",
    "print(validation_label_seq[2])\n",
    "print(validation_label_seq.shape)"
   ]
  },
  {
   "cell_type": "code",
   "execution_count": 25,
   "id": "06a0c4e1",
   "metadata": {
    "ExecuteTime": {
     "end_time": "2021-11-17T08:17:37.646845Z",
     "start_time": "2021-11-17T08:17:37.642079Z"
    }
   },
   "outputs": [],
   "source": [
    "tmp = set()\n",
    "for ar in validation_label_seq:\n",
    "    tmp.add(ar[0])"
   ]
  },
  {
   "cell_type": "code",
   "execution_count": 26,
   "id": "c96657aa",
   "metadata": {
    "ExecuteTime": {
     "end_time": "2021-11-17T08:17:39.859395Z",
     "start_time": "2021-11-17T08:17:39.854882Z"
    }
   },
   "outputs": [
    {
     "data": {
      "text/plain": [
       "{1, 2, 3, 4, 5}"
      ]
     },
     "execution_count": 26,
     "metadata": {},
     "output_type": "execute_result"
    }
   ],
   "source": [
    "tmp"
   ]
  },
  {
   "cell_type": "code",
   "execution_count": 49,
   "id": "cbe9c282",
   "metadata": {
    "ExecuteTime": {
     "end_time": "2021-11-17T08:34:40.766945Z",
     "start_time": "2021-11-17T08:34:40.726328Z"
    }
   },
   "outputs": [
    {
     "name": "stdout",
     "output_type": "stream",
     "text": [
      "Model: \"sequential_1\"\n",
      "_________________________________________________________________\n",
      "Layer (type)                 Output Shape              Param #   \n",
      "=================================================================\n",
      "embedding_1 (Embedding)      (None, 120, 16)           16000     \n",
      "_________________________________________________________________\n",
      "global_average_pooling1d_1 ( (None, 16)                0         \n",
      "_________________________________________________________________\n",
      "dense_2 (Dense)              (None, 24)                408       \n",
      "_________________________________________________________________\n",
      "dense_3 (Dense)              (None, 6)                 150       \n",
      "=================================================================\n",
      "Total params: 16,558\n",
      "Trainable params: 16,558\n",
      "Non-trainable params: 0\n",
      "_________________________________________________________________\n"
     ]
    }
   ],
   "source": [
    "# define model\n",
    "model = tf.keras.Sequential([\n",
    "    #embedding layer은 첫 번째 layer로만 사용가능하다\n",
    "    #vocabsize은 1000미만이여야함\n",
    "    tf.keras.layers.Embedding(vocab_size, embedding_dim, input_length=max_length),\n",
    "    tf.keras.layers.GlobalAveragePooling1D(),\n",
    "    tf.keras.layers.Dense(24, activation='relu'),\n",
    "    tf.keras.layers.Dense(6, activation='softmax')\n",
    "])\n",
    "\n",
    "model.compile(loss = 'sparse_categorical_crossentropy', optimizer='adam', metrics=['accuracy'])\n",
    "model.summary()"
   ]
  },
  {
   "cell_type": "code",
   "execution_count": 50,
   "id": "b2380cb5",
   "metadata": {
    "ExecuteTime": {
     "end_time": "2021-11-17T08:34:55.140373Z",
     "start_time": "2021-11-17T08:34:41.332296Z"
    }
   },
   "outputs": [
    {
     "name": "stdout",
     "output_type": "stream",
     "text": [
      "Epoch 1/30\n"
     ]
    },
    {
     "name": "stderr",
     "output_type": "stream",
     "text": [
      "2021-11-17 17:34:41.477577: I tensorflow/core/grappler/optimizers/custom_graph_optimizer_registry.cc:112] Plugin optimizer for device_type GPU is enabled.\n"
     ]
    },
    {
     "name": "stdout",
     "output_type": "stream",
     "text": [
      "56/56 - 1s - loss: 1.7575 - accuracy: 0.2281 - val_loss: 1.7124 - val_accuracy: 0.2270\n"
     ]
    },
    {
     "name": "stderr",
     "output_type": "stream",
     "text": [
      "2021-11-17 17:34:42.110412: I tensorflow/core/grappler/optimizers/custom_graph_optimizer_registry.cc:112] Plugin optimizer for device_type GPU is enabled.\n"
     ]
    },
    {
     "name": "stdout",
     "output_type": "stream",
     "text": [
      "Epoch 2/30\n",
      "56/56 - 1s - loss: 1.6620 - accuracy: 0.2303 - val_loss: 1.6064 - val_accuracy: 0.2270\n",
      "Epoch 3/30\n",
      "56/56 - 0s - loss: 1.5344 - accuracy: 0.2792 - val_loss: 1.4740 - val_accuracy: 0.3753\n",
      "Epoch 4/30\n",
      "56/56 - 0s - loss: 1.3633 - accuracy: 0.5685 - val_loss: 1.2964 - val_accuracy: 0.6607\n",
      "Epoch 5/30\n",
      "56/56 - 0s - loss: 1.1476 - accuracy: 0.7376 - val_loss: 1.0847 - val_accuracy: 0.7079\n",
      "Epoch 6/30\n",
      "56/56 - 0s - loss: 0.9354 - accuracy: 0.7893 - val_loss: 0.9092 - val_accuracy: 0.8135\n",
      "Epoch 7/30\n",
      "56/56 - 0s - loss: 0.7614 - accuracy: 0.8685 - val_loss: 0.7657 - val_accuracy: 0.8742\n",
      "Epoch 8/30\n",
      "56/56 - 0s - loss: 0.6236 - accuracy: 0.9180 - val_loss: 0.6482 - val_accuracy: 0.8742\n",
      "Epoch 9/30\n",
      "56/56 - 0s - loss: 0.5135 - accuracy: 0.9348 - val_loss: 0.5545 - val_accuracy: 0.9101\n",
      "Epoch 10/30\n",
      "56/56 - 0s - loss: 0.4243 - accuracy: 0.9489 - val_loss: 0.4776 - val_accuracy: 0.9124\n",
      "Epoch 11/30\n",
      "56/56 - 0s - loss: 0.3509 - accuracy: 0.9545 - val_loss: 0.4147 - val_accuracy: 0.9213\n",
      "Epoch 12/30\n",
      "56/56 - 0s - loss: 0.2922 - accuracy: 0.9657 - val_loss: 0.3704 - val_accuracy: 0.9258\n",
      "Epoch 13/30\n",
      "56/56 - 0s - loss: 0.2468 - accuracy: 0.9713 - val_loss: 0.3270 - val_accuracy: 0.9258\n",
      "Epoch 14/30\n",
      "56/56 - 0s - loss: 0.2105 - accuracy: 0.9747 - val_loss: 0.2975 - val_accuracy: 0.9236\n",
      "Epoch 15/30\n",
      "56/56 - 0s - loss: 0.1808 - accuracy: 0.9753 - val_loss: 0.2762 - val_accuracy: 0.9303\n",
      "Epoch 16/30\n",
      "56/56 - 0s - loss: 0.1567 - accuracy: 0.9781 - val_loss: 0.2573 - val_accuracy: 0.9326\n",
      "Epoch 17/30\n",
      "56/56 - 0s - loss: 0.1377 - accuracy: 0.9820 - val_loss: 0.2448 - val_accuracy: 0.9326\n",
      "Epoch 18/30\n",
      "56/56 - 0s - loss: 0.1215 - accuracy: 0.9826 - val_loss: 0.2341 - val_accuracy: 0.9371\n",
      "Epoch 19/30\n",
      "56/56 - 0s - loss: 0.1076 - accuracy: 0.9848 - val_loss: 0.2247 - val_accuracy: 0.9348\n",
      "Epoch 20/30\n",
      "56/56 - 0s - loss: 0.0959 - accuracy: 0.9865 - val_loss: 0.2167 - val_accuracy: 0.9438\n",
      "Epoch 21/30\n",
      "56/56 - 0s - loss: 0.0866 - accuracy: 0.9882 - val_loss: 0.2095 - val_accuracy: 0.9393\n",
      "Epoch 22/30\n",
      "56/56 - 0s - loss: 0.0782 - accuracy: 0.9916 - val_loss: 0.2038 - val_accuracy: 0.9416\n",
      "Epoch 23/30\n",
      "56/56 - 0s - loss: 0.0697 - accuracy: 0.9933 - val_loss: 0.2027 - val_accuracy: 0.9371\n",
      "Epoch 24/30\n",
      "56/56 - 0s - loss: 0.0626 - accuracy: 0.9955 - val_loss: 0.1971 - val_accuracy: 0.9416\n",
      "Epoch 25/30\n",
      "56/56 - 0s - loss: 0.0566 - accuracy: 0.9955 - val_loss: 0.1923 - val_accuracy: 0.9438\n",
      "Epoch 26/30\n",
      "56/56 - 0s - loss: 0.0512 - accuracy: 0.9966 - val_loss: 0.1910 - val_accuracy: 0.9438\n",
      "Epoch 27/30\n",
      "56/56 - 0s - loss: 0.0467 - accuracy: 0.9966 - val_loss: 0.1873 - val_accuracy: 0.9461\n",
      "Epoch 28/30\n",
      "56/56 - 0s - loss: 0.0423 - accuracy: 0.9972 - val_loss: 0.1848 - val_accuracy: 0.9461\n",
      "Epoch 29/30\n",
      "56/56 - 0s - loss: 0.0385 - accuracy: 0.9978 - val_loss: 0.1827 - val_accuracy: 0.9461\n",
      "Epoch 30/30\n",
      "56/56 - 0s - loss: 0.0350 - accuracy: 0.9994 - val_loss: 0.1818 - val_accuracy: 0.9483\n"
     ]
    }
   ],
   "source": [
    "num_epochs=30\n",
    "history = model.fit(train_padded, training_label_seq, epochs=num_epochs,\n",
    "                   validation_data=(validation_padded, validation_label_seq),verbose=2)"
   ]
  },
  {
   "cell_type": "code",
   "execution_count": 51,
   "id": "194c8e2e",
   "metadata": {
    "ExecuteTime": {
     "end_time": "2021-11-17T08:38:29.703541Z",
     "start_time": "2021-11-17T08:38:29.314015Z"
    }
   },
   "outputs": [
    {
     "data": {
      "image/png": "[encoded data removed]",
      "text/plain": [
       "<Figure size 432x288 with 1 Axes>"
      ]
     },
     "metadata": {
      "needs_background": "light"
     },
     "output_type": "display_data"
    },
    {
     "data": {
      "image/png": "[encoded data removed]",
      "text/plain": [
       "<Figure size 432x288 with 1 Axes>"
      ]
     },
     "metadata": {
      "needs_background": "light"
     },
     "output_type": "display_data"
    }
   ],
   "source": [
    "import matplotlib.pyplot as plt\n",
    "\n",
    "\n",
    "def plot_graphs(history, string):\n",
    "  plt.plot(history.history[string])\n",
    "  plt.plot(history.history['val_'+string])\n",
    "  plt.xlabel(\"Epochs\")\n",
    "  plt.ylabel(string)\n",
    "  plt.legend([string, 'val_'+string])\n",
    "  plt.show()\n",
    "  \n",
    "plot_graphs(history, \"accuracy\")\n",
    "plot_graphs(history, \"loss\")"
   ]
  },
  {
   "cell_type": "code",
   "execution_count": 52,
   "id": "ecdaf3bd",
   "metadata": {
    "ExecuteTime": {
     "end_time": "2021-11-17T08:38:54.290347Z",
     "start_time": "2021-11-17T08:38:54.269704Z"
    }
   },
   "outputs": [],
   "source": [
    "reverse_word_index = dict([(value, key) for (key, value) in word_index.items()])\n",
    "\n",
    "def decode_sentence(text):\n",
    "    return ' '.join([reverse_word_index.get(i, '?') for i in text])"
   ]
  },
  {
   "cell_type": "code",
   "execution_count": 53,
   "id": "f8667830",
   "metadata": {
    "ExecuteTime": {
     "end_time": "2021-11-17T08:39:00.093491Z",
     "start_time": "2021-11-17T08:39:00.078406Z"
    }
   },
   "outputs": [
    {
     "name": "stdout",
     "output_type": "stream",
     "text": [
      "(1000, 16)\n"
     ]
    }
   ],
   "source": [
    "#get weights of model\n",
    "e = model.layers[0]\n",
    "weights = e.get_weights()[0]\n",
    "print(weights.shape)"
   ]
  },
  {
   "cell_type": "code",
   "execution_count": 54,
   "id": "b2846502",
   "metadata": {
    "ExecuteTime": {
     "end_time": "2021-11-17T08:39:05.884635Z",
     "start_time": "2021-11-17T08:39:05.860463Z"
    },
    "code_folding": []
   },
   "outputs": [],
   "source": [
    "import io\n",
    "\n",
    "out_v = io.open('vecs.tsv', 'w', encoding='utf-8')\n",
    "out_m = io.open('meta.tsv', 'w', encoding='utf-8')\n",
    "for word_num in range(1, vocab_size):\n",
    "  word = reverse_word_index[word_num]\n",
    "  embeddings = weights[word_num]\n",
    "  out_m.write(word + \"\\n\")\n",
    "  out_v.write('\\t'.join([str(x) for x in embeddings]) + \"\\n\")\n",
    "out_v.close()\n",
    "out_m.close()"
   ]
  },
  {
   "cell_type": "code",
   "execution_count": null,
   "id": "eaccc82d",
   "metadata": {
    "ExecuteTime": {
     "start_time": "2021-11-17T08:39:12.584Z"
    }
   },
   "outputs": [
    {
     "name": "stderr",
     "output_type": "stream",
     "text": [
      "/Users/jinwooahn/miniforge3/envs/tf_certificate/lib/python3.8/site-packages/google/colab/data_table.py:30: UserWarning: IPython.utils.traitlets has moved to a top-level traitlets package.\n",
      "  from IPython.utils import traitlets as _traitlets\n"
     ]
    }
   ],
   "source": [
    "try:\n",
    "  from google.colab import files\n",
    "except ImportError:\n",
    "  pass\n",
    "else:\n",
    "  files.download('vecs.tsv')\n",
    "  files.download('meta.tsv')"
   ]
  }
 ],
 "metadata": {
  "hide_input": false,
  "kernelspec": {
   "display_name": "tf_certificate",
   "language": "python",
   "name": "tf_certificate"
  },
  "language_info": {
   "codemirror_mode": {
    "name": "ipython",
    "version": 3
   },
   "file_extension": ".py",
   "mimetype": "text/x-python",
   "name": "python",
   "nbconvert_exporter": "python",
   "pygments_lexer": "ipython3",
   "version": "3.8.12"
  },
  "toc": {
   "base_numbering": 1,
   "nav_menu": {},
   "number_sections": true,
   "sideBar": true,
   "skip_h1_title": false,
   "title_cell": "Table of Contents",
   "title_sidebar": "Contents",
   "toc_cell": false,
   "toc_position": {},
   "toc_section_display": true,
   "toc_window_display": false
  },
  "varInspector": {
   "cols": {
    "lenName": 16,
    "lenType": 16,
    "lenVar": 40
   },
   "kernels_config": {
    "python": {
     "delete_cmd_postfix": "",
     "delete_cmd_prefix": "del ",
     "library": "var_list.py",
     "varRefreshCmd": "print(var_dic_list())"
    },
    "r": {
     "delete_cmd_postfix": ") ",
     "delete_cmd_prefix": "rm(",
     "library": "var_list.r",
     "varRefreshCmd": "cat(var_dic_list()) "
    }
   },
   "types_to_exclude": [
    "module",
    "function",
    "builtin_function_or_method",
    "instance",
    "_Feature"
   ],
   "window_display": false
  }
 },
 "nbformat": 4,
 "nbformat_minor": 5
}
