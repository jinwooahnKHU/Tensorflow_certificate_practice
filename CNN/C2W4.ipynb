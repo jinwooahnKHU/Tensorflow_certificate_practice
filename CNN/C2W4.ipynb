{
 "cells": [
  {
   "cell_type": "markdown",
   "id": "8cc9dafa",
   "metadata": {},
   "source": [
    "# Tensorflow practice C2W4"
   ]
  },
  {
   "cell_type": "markdown",
   "id": "8463e050",
   "metadata": {},
   "source": [
    "+ add another dimension to image"
   ]
  },
  {
   "cell_type": "code",
   "execution_count": 1,
   "id": "ec2df329",
   "metadata": {
    "ExecuteTime": {
     "end_time": "2021-11-17T01:29:01.071187Z",
     "start_time": "2021-11-17T01:28:57.990457Z"
    }
   },
   "outputs": [
    {
     "name": "stderr",
     "output_type": "stream",
     "text": [
      "/Users/jinwooahn/miniforge3/envs/tf_certificate/lib/python3.8/site-packages/google/colab/data_table.py:30: UserWarning: IPython.utils.traitlets has moved to a top-level traitlets package.\n",
      "  from IPython.utils import traitlets as _traitlets\n"
     ]
    }
   ],
   "source": [
    "import csv\n",
    "import numpy as np\n",
    "import tensorflow as tf\n",
    "from tensorflow.keras.preprocessing.image import ImageDataGenerator\n",
    "from google.colab import files"
   ]
  },
  {
   "cell_type": "code",
   "execution_count": 3,
   "id": "80aef963",
   "metadata": {
    "ExecuteTime": {
     "end_time": "2021-11-17T01:30:05.854048Z",
     "start_time": "2021-11-17T01:29:53.514632Z"
    }
   },
   "outputs": [
    {
     "name": "stdout",
     "output_type": "stream",
     "text": [
      "Downloading...\n",
      "From: https://drive.google.com/uc?id=1z0DkA9BytlLxO1C0BAWzknLyQmZAp0HR\n",
      "To: /Users/jinwooahn/Documents/dev_folder/2021_2nd_semester/tensorflow_certificate/C2/W4/sign_mnist_train.csv\n",
      "100%|██████████████████████████████████████| 83.3M/83.3M [00:03<00:00, 24.2MB/s]\n",
      "Downloading...\n",
      "From: https://drive.google.com/uc?id=1z1BIj4qmri59GWBG4ivMNFtpZ4AXIbzg\n",
      "To: /Users/jinwooahn/Documents/dev_folder/2021_2nd_semester/tensorflow_certificate/C2/W4/sign_mnist_test.csv\n",
      "100%|██████████████████████████████████████| 21.8M/21.8M [00:01<00:00, 16.3MB/s]\n"
     ]
    }
   ],
   "source": [
    "#callback 오류 뜰 경우 pip install --upgrade requests 하면 된다.\n",
    "# sign_mnist_train.csv\n",
    "!gdown --id 1z0DkA9BytlLxO1C0BAWzknLyQmZAp0HR\n",
    "# sign_mnist_test.csv\n",
    "!gdown --id 1z1BIj4qmri59GWBG4ivMNFtpZ4AXIbzg"
   ]
  },
  {
   "cell_type": "code",
   "execution_count": 4,
   "id": "189b2071",
   "metadata": {
    "ExecuteTime": {
     "end_time": "2021-11-17T01:34:16.485477Z",
     "start_time": "2021-11-17T01:34:16.477393Z"
    }
   },
   "outputs": [],
   "source": [
    "def get_data(filename):\n",
    "    with open(filename) as training_file:\n",
    "        csv_reader = csv.reader(training_file, delimiter=',')\n",
    "        first_line = True\n",
    "        temp_images = []\n",
    "        temp_labels = []\n",
    "        for row in csv_reader:\n",
    "            if first_line:\n",
    "                #ignoring first line\n",
    "                first_line = False\n",
    "            else:\n",
    "                #row에서 라벨과 이미지 데이터를 분리\n",
    "                temp_labels.append(row[0])\n",
    "                image_data = row[1:785]\n",
    "                image_data_as_array = np.array_split(image_data, 28)\n",
    "                temp_images.append(image_data_as_array)\n",
    "                \n",
    "        images = np.array(temp_images).astype('float')\n",
    "        labels = np.array(temp_labels).astype('float')\n",
    "    \n",
    "    return images, labels"
   ]
  },
  {
   "cell_type": "code",
   "execution_count": 5,
   "id": "856d9068",
   "metadata": {
    "ExecuteTime": {
     "end_time": "2021-11-17T01:35:25.294712Z",
     "start_time": "2021-11-17T01:35:14.836941Z"
    },
    "scrolled": true
   },
   "outputs": [
    {
     "name": "stdout",
     "output_type": "stream",
     "text": [
      "(27455, 28, 28)\n",
      "(27455,)\n",
      "(7172, 28, 28)\n",
      "(7172,)\n"
     ]
    }
   ],
   "source": [
    "training_images, training_labels = get_data('./sign_mnist_train.csv')\n",
    "testing_images, testing_labels = get_data('./sign_mnist_test.csv')\n",
    "\n",
    "print(training_images.shape)\n",
    "print(training_labels.shape)\n",
    "print(testing_images.shape)\n",
    "print(testing_labels.shape)"
   ]
  },
  {
   "cell_type": "code",
   "execution_count": 7,
   "id": "7e8ac4b2",
   "metadata": {
    "ExecuteTime": {
     "end_time": "2021-11-17T01:38:06.594087Z",
     "start_time": "2021-11-17T01:38:06.588195Z"
    }
   },
   "outputs": [
    {
     "name": "stdout",
     "output_type": "stream",
     "text": [
      "(27455, 28, 28, 1)\n",
      "(7172, 28, 28, 1)\n"
     ]
    }
   ],
   "source": [
    "# for using np.expand_dims, add another dimension to the data\n",
    "# ex. (10000, 28, 28) to (10000, 28, 28, 1)\n",
    "\n",
    "training_images = np.expand_dims(training_images, axis = 3)\n",
    "testing_images = np.expand_dims(testing_images, axis = 3)\n",
    "\n",
    "train_datagen = ImageDataGenerator(\n",
    "                rescale = 1. / 255.,\n",
    "                rotation_range=40,\n",
    "                width_shift_range=0.2,\n",
    "                height_shift_range=0.2,\n",
    "                shear_range=0.2,\n",
    "                zoom_range=0.2,\n",
    "                horizontal_flip=True,\n",
    "                fill_mode='nearest')\n",
    "\n",
    "validation_datagen = ImageDataGenerator(\n",
    "rescale=1. / 255.)\n",
    "\n",
    "print(training_images.shape)\n",
    "print(testing_images.shape)"
   ]
  },
  {
   "cell_type": "code",
   "execution_count": 29,
   "id": "c490c024",
   "metadata": {
    "ExecuteTime": {
     "end_time": "2021-11-17T02:21:14.687339Z",
     "start_time": "2021-11-17T02:18:59.931978Z"
    }
   },
   "outputs": [
    {
     "name": "stdout",
     "output_type": "stream",
     "text": [
      "Epoch 1/15\n",
      "  3/857 [..............................] - ETA: 29s - loss: 3.2660 - accuracy: 0.0417     "
     ]
    },
    {
     "name": "stderr",
     "output_type": "stream",
     "text": [
      "2021-11-17 11:19:00.120425: I tensorflow/core/grappler/optimizers/custom_graph_optimizer_registry.cc:112] Plugin optimizer for device_type GPU is enabled.\n"
     ]
    },
    {
     "name": "stdout",
     "output_type": "stream",
     "text": [
      "858/857 [==============================] - ETA: 0s - loss: 2.7796 - accuracy: 0.1589"
     ]
    },
    {
     "name": "stderr",
     "output_type": "stream",
     "text": [
      "2021-11-17 11:19:08.189065: I tensorflow/core/grappler/optimizers/custom_graph_optimizer_registry.cc:112] Plugin optimizer for device_type GPU is enabled.\n"
     ]
    },
    {
     "name": "stdout",
     "output_type": "stream",
     "text": [
      "857/857 [==============================] - 9s 11ms/step - loss: 2.7796 - accuracy: 0.1589 - val_loss: 1.7985 - val_accuracy: 0.4182\n",
      "Epoch 2/15\n",
      "857/857 [==============================] - 9s 10ms/step - loss: 2.0760 - accuracy: 0.3466 - val_loss: 1.5375 - val_accuracy: 0.4679\n",
      "Epoch 3/15\n",
      "857/857 [==============================] - 9s 10ms/step - loss: 1.7159 - accuracy: 0.4560 - val_loss: 1.1496 - val_accuracy: 0.6118\n",
      "Epoch 4/15\n",
      "857/857 [==============================] - 9s 10ms/step - loss: 1.5024 - accuracy: 0.5154 - val_loss: 0.9189 - val_accuracy: 0.7027\n",
      "Epoch 5/15\n",
      "857/857 [==============================] - 9s 10ms/step - loss: 1.3621 - accuracy: 0.5536 - val_loss: 0.7351 - val_accuracy: 0.7543\n",
      "Epoch 6/15\n",
      "857/857 [==============================] - 9s 10ms/step - loss: 1.2523 - accuracy: 0.5897 - val_loss: 0.7209 - val_accuracy: 0.7595\n",
      "Epoch 7/15\n",
      "857/857 [==============================] - 9s 10ms/step - loss: 1.1554 - accuracy: 0.6197 - val_loss: 0.6818 - val_accuracy: 0.7882\n",
      "Epoch 8/15\n",
      "857/857 [==============================] - 9s 10ms/step - loss: 1.0637 - accuracy: 0.6511 - val_loss: 0.7530 - val_accuracy: 0.7203\n",
      "Epoch 9/15\n",
      "857/857 [==============================] - 9s 10ms/step - loss: 1.0104 - accuracy: 0.6667 - val_loss: 0.5502 - val_accuracy: 0.8126\n",
      "Epoch 10/15\n",
      "857/857 [==============================] - 9s 10ms/step - loss: 0.9481 - accuracy: 0.6893 - val_loss: 0.5698 - val_accuracy: 0.8006\n",
      "Epoch 11/15\n",
      "857/857 [==============================] - 9s 10ms/step - loss: 0.8944 - accuracy: 0.7038 - val_loss: 0.4679 - val_accuracy: 0.8447\n",
      "Epoch 12/15\n",
      "857/857 [==============================] - 9s 10ms/step - loss: 0.8639 - accuracy: 0.7155 - val_loss: 0.4843 - val_accuracy: 0.8267\n",
      "Epoch 13/15\n",
      "857/857 [==============================] - 9s 10ms/step - loss: 0.8290 - accuracy: 0.7238 - val_loss: 0.5767 - val_accuracy: 0.8207\n",
      "Epoch 14/15\n",
      "857/857 [==============================] - 9s 10ms/step - loss: 0.8009 - accuracy: 0.7324 - val_loss: 0.4945 - val_accuracy: 0.8281\n",
      "Epoch 15/15\n",
      "857/857 [==============================] - 9s 10ms/step - loss: 0.7576 - accuracy: 0.7491 - val_loss: 0.4320 - val_accuracy: 0.8592\n",
      " 19/225 [=>............................] - ETA: 1s - loss: 292.4448 - accuracy: 0.5362"
     ]
    },
    {
     "name": "stderr",
     "output_type": "stream",
     "text": [
      "2021-11-17 11:21:13.409620: I tensorflow/core/grappler/optimizers/custom_graph_optimizer_registry.cc:112] Plugin optimizer for device_type GPU is enabled.\n"
     ]
    },
    {
     "name": "stdout",
     "output_type": "stream",
     "text": [
      "225/225 [==============================] - 1s 6ms/step - loss: 273.9940 - accuracy: 0.5602\n"
     ]
    },
    {
     "data": {
      "text/plain": [
       "[273.9939880371094, 0.5602342486381531]"
      ]
     },
     "execution_count": 29,
     "metadata": {},
     "output_type": "execute_result"
    }
   ],
   "source": [
    "model = tf.keras.models.Sequential([\n",
    "    tf.keras.layers.Conv2D(64, (3, 3), activation='relu', input_shape=(28,28,1)),\n",
    "    tf.keras.layers.MaxPool2D(2,2),\n",
    "    tf.keras.layers.Conv2D(64,(3,3), activation='relu'),\n",
    "    tf.keras.layers.MaxPool2D(2,2),\n",
    "    tf.keras.layers.Flatten(),\n",
    "    tf.keras.layers.Dense(128, activation='relu'),\n",
    "    tf.keras.layers.Dense(26, activation='softmax')\n",
    "])\n",
    "\n",
    "model.compile(optimizer = 'adam',\n",
    "             loss='sparse_categorical_crossentropy',\n",
    "             metrics=['accuracy'])\n",
    "\n",
    "history = model.fit(train_datagen.flow(training_images, training_labels, batch_size=32),\n",
    "                                      steps_per_epoch = len(training_images) / 32,\n",
    "                                       epochs=15,\n",
    "                                       validation_data=validation_datagen.flow(testing_images, testing_labels, batch_size=32),\n",
    "                              validation_steps=len(testing_images) / 32)\n",
    "\n",
    "model.evaluate(testing_images, testing_labels, batch_size= 32)"
   ]
  },
  {
   "cell_type": "code",
   "execution_count": 17,
   "id": "f13ff807",
   "metadata": {
    "ExecuteTime": {
     "end_time": "2021-11-17T02:04:42.558650Z",
     "start_time": "2021-11-17T02:04:42.554525Z"
    }
   },
   "outputs": [
    {
     "data": {
      "text/plain": [
       "(7172, 28, 28, 1)"
      ]
     },
     "execution_count": 17,
     "metadata": {},
     "output_type": "execute_result"
    }
   ],
   "source": [
    "testing_images.shape"
   ]
  },
  {
   "cell_type": "code",
   "execution_count": 18,
   "id": "32d72954",
   "metadata": {
    "ExecuteTime": {
     "end_time": "2021-11-17T02:04:52.336243Z",
     "start_time": "2021-11-17T02:04:52.331640Z"
    }
   },
   "outputs": [
    {
     "data": {
      "text/plain": [
       "(7172,)"
      ]
     },
     "execution_count": 18,
     "metadata": {},
     "output_type": "execute_result"
    }
   ],
   "source": [
    "testing_labels.shape"
   ]
  },
  {
   "cell_type": "code",
   "execution_count": 24,
   "id": "193e481c",
   "metadata": {
    "ExecuteTime": {
     "end_time": "2021-11-17T02:05:43.433757Z",
     "start_time": "2021-11-17T02:05:43.426262Z"
    }
   },
   "outputs": [
    {
     "data": {
      "text/plain": [
       "{0.0,\n",
       " 1.0,\n",
       " 2.0,\n",
       " 3.0,\n",
       " 4.0,\n",
       " 5.0,\n",
       " 6.0,\n",
       " 7.0,\n",
       " 8.0,\n",
       " 10.0,\n",
       " 11.0,\n",
       " 12.0,\n",
       " 13.0,\n",
       " 14.0,\n",
       " 15.0,\n",
       " 16.0,\n",
       " 17.0,\n",
       " 18.0,\n",
       " 19.0,\n",
       " 20.0,\n",
       " 21.0,\n",
       " 22.0,\n",
       " 23.0,\n",
       " 24.0}"
      ]
     },
     "execution_count": 24,
     "metadata": {},
     "output_type": "execute_result"
    }
   ],
   "source": [
    "set(training_labels)"
   ]
  },
  {
   "cell_type": "code",
   "execution_count": 31,
   "id": "8876a8d7",
   "metadata": {
    "ExecuteTime": {
     "end_time": "2021-11-17T02:32:59.496309Z",
     "start_time": "2021-11-17T02:32:58.658031Z"
    }
   },
   "outputs": [
    {
     "data": {
      "image/png": "[encoded data removed]",
      "text/plain": [
       "<Figure size 432x288 with 1 Axes>"
      ]
     },
     "metadata": {
      "needs_background": "light"
     },
     "output_type": "display_data"
    },
    {
     "data": {
      "image/png": "[encoded data removed]",
      "text/plain": [
       "<Figure size 432x288 with 1 Axes>"
      ]
     },
     "metadata": {
      "needs_background": "light"
     },
     "output_type": "display_data"
    }
   ],
   "source": [
    "# Plot the chart for accuracy and loss on both training and validation\n",
    "\n",
    "import matplotlib.pyplot as plt\n",
    "acc = history.history['accuracy'] ### YOUR CODE HERE\n",
    "val_acc = history.history['val_accuracy'] ### YOUR CODE HERE\n",
    "loss = history.history['loss'] ### YOUR CODE HERE\n",
    "val_loss = history.history['val_loss'] ### YOUR CODE HERE\n",
    "\n",
    "epochs = range(len(acc))\n",
    "\n",
    "plt.plot(epochs, acc, 'r', label='Training accuracy')\n",
    "plt.plot(epochs, val_acc, 'b', label='Validation accuracy')\n",
    "plt.title('Training and validation accuracy')\n",
    "plt.legend()\n",
    "plt.figure()\n",
    "\n",
    "plt.plot(epochs, loss, 'r', label='Training Loss')\n",
    "plt.plot(epochs, val_loss, 'b', label='Validation Loss')\n",
    "plt.title('Training and validation loss')\n",
    "plt.legend()\n",
    "\n",
    "plt.show()"
   ]
  },
  {
   "cell_type": "code",
   "execution_count": null,
   "id": "090e93e7",
   "metadata": {},
   "outputs": [],
   "source": []
  }
 ],
 "metadata": {
  "hide_input": false,
  "kernelspec": {
   "display_name": "tf_certificate",
   "language": "python",
   "name": "tf_certificate"
  },
  "language_info": {
   "codemirror_mode": {
    "name": "ipython",
    "version": 3
   },
   "file_extension": ".py",
   "mimetype": "text/x-python",
   "name": "python",
   "nbconvert_exporter": "python",
   "pygments_lexer": "ipython3",
   "version": "3.8.12"
  },
  "toc": {
   "base_numbering": 1,
   "nav_menu": {},
   "number_sections": true,
   "sideBar": true,
   "skip_h1_title": false,
   "title_cell": "Table of Contents",
   "title_sidebar": "Contents",
   "toc_cell": false,
   "toc_position": {},
   "toc_section_display": true,
   "toc_window_display": false
  },
  "varInspector": {
   "cols": {
    "lenName": 16,
    "lenType": 16,
    "lenVar": 40
   },
   "kernels_config": {
    "python": {
     "delete_cmd_postfix": "",
     "delete_cmd_prefix": "del ",
     "library": "var_list.py",
     "varRefreshCmd": "print(var_dic_list())"
    },
    "r": {
     "delete_cmd_postfix": ") ",
     "delete_cmd_prefix": "rm(",
     "library": "var_list.r",
     "varRefreshCmd": "cat(var_dic_list()) "
    }
   },
   "types_to_exclude": [
    "module",
    "function",
    "builtin_function_or_method",
    "instance",
    "_Feature"
   ],
   "window_display": false
  }
 },
 "nbformat": 4,
 "nbformat_minor": 5
}
